{
 "cells": [
  {
   "cell_type": "code",
   "execution_count": 1,
   "id": "23de51d5",
   "metadata": {},
   "outputs": [],
   "source": [
    "#imports\n",
    "from vtkplotter import *\n",
    "import pandas as pd\n",
    "from scipy.spatial import Delaunay\n",
    "from scipy.spatial import Delaunay\n",
    "import matplotlib.pyplot as plt\n",
    "import matplotlib.colors as colors\n",
    "import numpy as np\n",
    "embedWindow('k3d') # or itkwidgets, False (for a popup)\n",
    "\n",
    "import vedo\n",
    "from vedo import printc, dataurl, settings, delaunay2d, Line, Lines, Points, Plotter"
   ]
  },
  {
   "cell_type": "code",
   "execution_count": 2,
   "id": "b8bb2c29",
   "metadata": {
    "scrolled": false
   },
   "outputs": [],
   "source": [
    "settings.use_depth_peeling = True"
   ]
  },
  {
   "cell_type": "code",
   "execution_count": 3,
   "id": "e33cc7c5",
   "metadata": {},
   "outputs": [],
   "source": [
    "#import data\n",
    "\n",
    "url = \"https://raw.githubusercontent.com/mwafe/norris/master/\"\n",
    "\n",
    "NorrisDEMPD = pd.read_csv(url+\"norris_dem.csv\")\n",
    "\n",
    "isothermPD = pd.read_csv(url+\"75isotherm.csv\")\n",
    "\n",
    "normyPD = pd.read_csv(url+\"normy.csv\")\n",
    "hotspringPD = pd.read_csv(url+\"hotspring.csv\")\n",
    "rangebounderPD = pd.read_csv(url+\"rangebounder.csv\")\n",
    "carmichaelPD = pd.read_csv(url+\"carmichael.csv\")\n",
    "cherryPD = pd.read_csv(url+\"cherry.csv\")\n",
    "creekPD = pd.read_csv(url+\"creek.csv\")\n",
    "forkPD = pd.read_csv(url+\"fork.csv\")\n",
    "sblockPD = pd.read_csv(url+\"sblock.csv\")\n",
    "trbPD = pd.read_csv(url+\"trb.csv\")\n",
    "\n",
    "quakesPD = pd.read_csv(url+\"quakes.csv\")"
   ]
  },
  {
   "cell_type": "code",
   "execution_count": 4,
   "id": "4124966c",
   "metadata": {
    "scrolled": true
   },
   "outputs": [],
   "source": [
    "#Set up land surface \n",
    "\n",
    "NorrisDEM = delaunay2d(NorrisDEMPD.values)\n",
    "\n",
    "\n",
    "# in order to color it by the elevation, we use the z values of the mesh\n",
    "zvals = NorrisDEM.points()[:, 2] #select all rows in column with index of 2\n",
    "NorrisDEM.cmap(\"terrain\", zvals, vmin=1100)\n",
    "NorrisDEM.name = \"Norris DEM\" # give the object a name"
   ]
  },
  {
   "cell_type": "code",
   "execution_count": 5,
   "id": "d22b01af",
   "metadata": {},
   "outputs": [],
   "source": [
    "#Isotherm mesh\n",
    "isotherm = delaunay2d(isothermPD.values)\n",
    "isotherm.name = \"75C temperature isosurface\""
   ]
  },
  {
   "cell_type": "code",
   "execution_count": 6,
   "id": "58b8b9ce",
   "metadata": {},
   "outputs": [],
   "source": [
    "#Fault meshes\n",
    "hotspring = delaunay2d(hotspringPD.values)\n",
    "hotspring.name = \"Hot Spring\"\n",
    "\n",
    "normy = delaunay2d(normyPD.values)\n",
    "normy.name = \"Normy\"\n",
    "\n",
    "rangebounder = delaunay2d(rangebounderPD.values)\n",
    "rangebounder.name = \"Rangebounder\"\n",
    "\n",
    "carmichael = delaunay2d(carmichaelPD.values)\n",
    "carmichael.name = \"Carmichael\"\n",
    "\n",
    "cherry = delaunay2d(cherryPD.values)\n",
    "cherry.name = \"Cherry\"\n",
    "\n",
    "creek = delaunay2d(creekPD.values)\n",
    "creek.name = \"Rangebounder\"\n",
    "\n",
    "fork = delaunay2d(forkPD.values)\n",
    "fork.name = \"fork\"\n",
    "\n",
    "sblock = delaunay2d(sblockPD.values)\n",
    "sblock.name = \"South Block\"\n",
    "\n",
    "trb = delaunay2d(trbPD.values)\n",
    "trb.name = \"Red Bluff Fault\""
   ]
  },
  {
   "cell_type": "code",
   "execution_count": 7,
   "id": "df49a1ea",
   "metadata": {},
   "outputs": [],
   "source": [
    "#Quake Focal points\n",
    "quakesxyz = quakesPD[[\"xloc\", \"yloc\", \"zloc\"]].values\n",
    "scals = quakesPD[[\"mw\"]]\n",
    "quakesPts = Points(quakesxyz, r=5).cmap(\"magma\", scals)\n",
    "quakesPts.name = \"Focal points\""
   ]
  },
  {
   "cell_type": "code",
   "execution_count": null,
   "id": "fdfef194",
   "metadata": {},
   "outputs": [],
   "source": [
    "# Create a plotter and add landSurface and everything else to it\n",
    "plt = Plotter(axes=dict(xtitle='km', ytitle=' ', ztitle='km*1.5', yzgrid=False),\n",
    "              bg2='lb', size=(1200,900)) # screen size\n",
    "plt += NorrisDEM.flag()                # this adds a flag when hoovering the mouse\n",
    "plt += NorrisDEM.isolines(5).lw(1).c('k')\n",
    "plt += isotherm.c(\"red\").opacity(0.3).flag()\n",
    "plt += hotspring.c(\"orange\").opacity(0.3).flag()\n",
    "plt += normy.c(\"brown\").opacity(0.3).flag()\n",
    "plt += rangebounder.c(\"blue\").opacity(0.3).flag()\n",
    "#plt += carmichael.c(\"blue\").opacity(0.3).flag() # problem plot\n",
    "#plt += cherry.c(\"blue\").opacity(0.3).flag() #problem plot\n",
    "plt += creek.c(\"blue\").opacity(0.3).flag()\n",
    "plt += fork.c(\"blue\").opacity(0.3).flag()\n",
    "#plt += sblock.c(\"blue\").opacity(0.3).flag() # problem\n",
    "plt += trb.c(\"blue\").opacity(0.3).flag()\n",
    "plt += quakesPts.flag()\n",
    "plt.show(viewup=\"z\", zoom=1)"
   ]
  },
  {
   "cell_type": "code",
   "execution_count": null,
   "id": "1eabe2cd",
   "metadata": {},
   "outputs": [],
   "source": []
  }
 ],
 "metadata": {
  "kernelspec": {
   "display_name": "Python 3 (ipykernel)",
   "language": "python",
   "name": "python3"
  },
  "language_info": {
   "codemirror_mode": {
    "name": "ipython",
    "version": 3
   },
   "file_extension": ".py",
   "mimetype": "text/x-python",
   "name": "python",
   "nbconvert_exporter": "python",
   "pygments_lexer": "ipython3",
   "version": "3.9.14"
  }
 },
 "nbformat": 4,
 "nbformat_minor": 5
}
